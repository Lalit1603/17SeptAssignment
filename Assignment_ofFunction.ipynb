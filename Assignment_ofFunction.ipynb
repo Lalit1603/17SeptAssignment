{
 "cells": [
  {
   "cell_type": "markdown",
   "id": "781b514c",
   "metadata": {},
   "source": [
    "# Basics of Functions:"
   ]
  },
  {
   "cell_type": "markdown",
   "id": "72b90a41",
   "metadata": {},
   "source": [
    "#1. What is a function in Python, and why is it used?\n",
    "A Function in Python is a Block of Code which is execute only when it is called\n",
    "You can Pass the Data  to function , known as parameter,into function after execution it return the data as a result.\n",
    "Using a function which gives us a code reusablity.We can call the same Block of code again and again with different paramters or same parameters."
   ]
  },
  {
   "cell_type": "markdown",
   "id": "c87e44ff",
   "metadata": {},
   "source": [
    "#2. How do you define a function in Python? Provide an example.\n",
    "def - A function begins with the keyword 'def'\n",
    "name - def is followed by the function's name here the name is chosen by the programmer\n",
    "paranthesis - the name is followed by a pair of paranthesis and a colon(): \n",
    "body lines - Indented within the def are the \"body\" lines of code which make up function."
   ]
  },
  {
   "cell_type": "code",
   "execution_count": 1,
   "id": "e29e2c54",
   "metadata": {},
   "outputs": [
    {
     "name": "stdout",
     "output_type": "stream",
     "text": [
      "a is Greater\n"
     ]
    }
   ],
   "source": [
    "#Example  of function\n",
    "def addition(a,b):\n",
    "    if a>b:\n",
    "        print(\"a is Greater\")\n",
    "    else:\n",
    "        print('b is Greater')\n",
    "addition(9,3)"
   ]
  },
  {
   "cell_type": "code",
   "execution_count": 2,
   "id": "d4ad867e",
   "metadata": {},
   "outputs": [
    {
     "data": {
      "text/plain": [
       "11"
      ]
     },
     "execution_count": 2,
     "metadata": {},
     "output_type": "execute_result"
    }
   ],
   "source": [
    "#3. Explain the difference between a function definition and a function call.\n",
    "#Defining a function means specifying its parameters, and inside of it its body, writing a code to executed.\n",
    "#A defined function is useless on its own without it being called.Calling a function means having it actually\n",
    "#execute.\n",
    "def calculate(a,b):#function definition\n",
    "    c = a+b\n",
    "    return c\n",
    "calculate(8,3)#function call\n"
   ]
  },
  {
   "cell_type": "code",
   "execution_count": 3,
   "id": "1ecaeaa0",
   "metadata": {},
   "outputs": [
    {
     "name": "stdout",
     "output_type": "stream",
     "text": [
      "Enter a 1st number:-12\n",
      "Enter a 2nd number:-8\n"
     ]
    },
    {
     "data": {
      "text/plain": [
       "20"
      ]
     },
     "execution_count": 3,
     "metadata": {},
     "output_type": "execute_result"
    }
   ],
   "source": [
    "# 4.Write a Python program that defines a function to calculate the sum of two numbers and then calls the function.\n",
    "def add_twoNumbers(a,b):\n",
    "    add = a+b\n",
    "    return add\n",
    "x=int(input(\"Enter a 1st number:-\"))\n",
    "y=int(input(\"Enter a 2nd number:-\"))\n",
    "add_twoNumbers(x,y)"
   ]
  },
  {
   "cell_type": "markdown",
   "id": "8fed18da",
   "metadata": {},
   "source": [
    "#5. What is a function signature, and what information does it typically include?\n",
    "A function signature consists of  the function prototype.It specifies the general information about a fucntion\n",
    "like the name scope and parameters.\n",
    "Function signature a formal description of the type of arguments and the type of the function's return value"
   ]
  },
  {
   "cell_type": "code",
   "execution_count": 4,
   "id": "97388426",
   "metadata": {
    "scrolled": true
   },
   "outputs": [
    {
     "data": {
      "text/plain": [
       "96"
      ]
     },
     "execution_count": 4,
     "metadata": {},
     "output_type": "execute_result"
    }
   ],
   "source": [
    "#6. Create a Python function that takes two arguments and returns their product.\n",
    "def product(a1,a2):\n",
    "    c = a1*a2\n",
    "    return c\n",
    "product(12,8)"
   ]
  },
  {
   "cell_type": "code",
   "execution_count": null,
   "id": "cfc2c3ca",
   "metadata": {},
   "outputs": [],
   "source": []
  },
  {
   "cell_type": "markdown",
   "id": "a00c74ab",
   "metadata": {},
   "source": [
    "# Function Parameters and Arguments:"
   ]
  },
  {
   "cell_type": "markdown",
   "id": "6f4df652",
   "metadata": {},
   "source": [
    "#1. Explain the concepts of formal parameters and actual arguments in Python functions.\n",
    "=> When a Functioon is defined, it may have some parameters.These Parameters are useful to receive values from outside of the function.The are Called 'Formal Parameters'.\n",
    "When we call the function we should pass data or values to the function.These Values are called 'Actual Parameters.'"
   ]
  },
  {
   "cell_type": "code",
   "execution_count": 7,
   "id": "8d48f544",
   "metadata": {},
   "outputs": [
    {
     "name": "stdout",
     "output_type": "stream",
     "text": [
      "\t45\tLalit\t88.5\tPython\tIndia\n",
      "\t55\tNachiket\t90\tPython\tIndia\n",
      "\t75\tMayur\t85\tPython\tIndia\n",
      "\t13\tPriyanka\t99\tPython\tIndia\n",
      "\tLalit\t45\tDhule\tPython\tIndia\n",
      "\t29\tRenuka\t94\tJava\tIndia\n"
     ]
    }
   ],
   "source": [
    "#2. Write a Python program that defines a function with default argument values.\n",
    "def printingInfo2(rollno,name,marks,course=\"Python\",cnt=\"India\"):\n",
    "    return print(\"\\t{}\\t{}\\t{}\\t{}\\t{}\".format(rollno,name,marks,course,cnt))\n",
    "    \n",
    "printingInfo2(45,\"Lalit\",88.50)\n",
    "printingInfo2(55,\"Nachiket\",90)\n",
    "printingInfo2(75,\"Mayur\",85)\n",
    "printingInfo2(13,\"Priyanka\",99)\n",
    "printingInfo2(\"Lalit\",45,\"Dhule\")\n",
    "printingInfo2(29,\"Renuka\",94,\"Java\")"
   ]
  },
  {
   "cell_type": "code",
   "execution_count": 6,
   "id": "1d78e525",
   "metadata": {},
   "outputs": [
    {
     "name": "stdout",
     "output_type": "stream",
     "text": [
      "Roll_no:-\t45 Name:-\tLalit Marks:- \t99.99 Course:-\tPython Country:-\tIndia\n",
      "Roll_no:-\t13 Name:-\tPriyanka Marks:- \t90 Course:-\tPython Country:-\tIndia\n",
      "Roll_no:-\t41 Name:-\tchetan Marks:- \t89 Course:-\tPython Country:-\tIndia\n",
      "Roll_no:-\t80 Name:-\tAllen Marks:- \t90 Course:-\tML Country:-\tUSA\n",
      "Roll_no:-\t46 Name:-\tPrathmesh Marks:- \t90 Course:-\tJava Country:-\tUK\n"
     ]
    }
   ],
   "source": [
    "#3. How do you use keyword arguments in Python function calls? Provide an example.\n",
    "def printingInfo3(rollno,name,marks,course=\"Python\",cnt=\"India\"):\n",
    "    return print(\"Roll_no:-\\t{} Name:-\\t{} Marks:- \\t{} Course:-\\t{} Country:-\\t{}\".format(rollno,name,marks,course,cnt))\n",
    "printingInfo3(name=\"Lalit\",marks=99.99,rollno=45)\n",
    "printingInfo3(13,marks=90,name=\"Priyanka\")\n",
    "printingInfo3(rollno=41,name=\"chetan\",marks=89)\n",
    "printingInfo3(cnt=\"USA\",course=\"ML\",marks=90,name=\"Allen\",rollno=80)\n",
    "printingInfo3(46,\"Prathmesh\",cnt=\"UK\",course=\"Java\",marks=90)"
   ]
  },
  {
   "cell_type": "markdown",
   "id": "d8133528",
   "metadata": {},
   "source": [
    "Keyword Arguments:-\n",
    "=>In some of the circumstances, we know the function name and formal parameter names and we don't know the order of formal Parameter names and to pass the data / values accurately we must use the concept of Keyword Parameters (or) arguments.\n",
    "=>The implementation of Keyword Parameters (or) arguments says that all the formal parameter names used as arguments in Function call(s) as keys.\n"
   ]
  },
  {
   "cell_type": "code",
   "execution_count": 17,
   "id": "ffb11c4d",
   "metadata": {},
   "outputs": [
    {
     "data": {
      "text/plain": [
       "66"
      ]
     },
     "execution_count": 17,
     "metadata": {},
     "output_type": "execute_result"
    }
   ],
   "source": [
    "#4. Create a Python function that accepts a variable number of arguments and calculates their sum.\n",
    "def calSum(*a):\n",
    "    sum=0\n",
    "    for i in a:\n",
    "        if type(i)==int:\n",
    "            sum+=i\n",
    "    return sum\n",
    "calSum(11,22,33,\"Lalit\")"
   ]
  },
  {
   "cell_type": "markdown",
   "id": "231248ff",
   "metadata": {},
   "source": [
    "#5. What is the purpose of the `*args` and `**kwargs` syntax in function parameter lists?\n",
    "Syntax for function definition with Variables Length Parameters:\n",
    "    def   functionname(list of formal params,  *param1,param2=value) :\n",
    "\t        --------------------------------------------------\n",
    "            --------------------------------------------------\n",
    "Syntax for function definition with Keyword Variables Length Parameters:\n",
    "def   functionname(list of formal params,  **param) :\n",
    "\t        --------------------------------------------------\n",
    "            --------------------------------------------------"
   ]
  },
  {
   "cell_type": "code",
   "execution_count": 18,
   "id": "2b68a2c0",
   "metadata": {},
   "outputs": [
    {
     "name": "stdout",
     "output_type": "stream",
     "text": [
      "('lalit', 'borase', 'jay', 'kalpesh', 18, 2, 1, 4)\n"
     ]
    }
   ],
   "source": [
    "#Example of Variable Length Parameters\n",
    "def func1(*a):\n",
    "    print(a)\n",
    "func1(\"lalit\",\"borase\",\"jay\",\"kalpesh\",18,2,1,4)"
   ]
  },
  {
   "cell_type": "code",
   "execution_count": 19,
   "id": "dd2346aa",
   "metadata": {},
   "outputs": [
    {
     "name": "stdout",
     "output_type": "stream",
     "text": [
      "{'eno': 10, 'ename': 'RS', 'sal': 3.4, 'dsg': 'Author'} <class 'dict'>\n",
      "{'sno': 20, 'sname': 'TR', 'marks': 33.33} <class 'dict'>\n",
      "{'tno': 100, 'tname': 'KN'} <class 'dict'>\n"
     ]
    }
   ],
   "source": [
    "#Example of Keyword Variable length Parameters:\n",
    "def  dispinfo(**k):    #Here  **k is called Keyword Var length param and its type <class,'dict'>\n",
    "    print(k,type(k))\n",
    "\n",
    "#main program\n",
    "dispinfo(eno=10,ename=\"RS\",sal=3.4,dsg=\"Author\") # Function Call-1\n",
    "dispinfo(sno=20,sname=\"TR\",marks=33.33) # Function Call-2\n",
    "dispinfo(tno=100,tname=\"KN\") # Function Call-3"
   ]
  },
  {
   "cell_type": "code",
   "execution_count": null,
   "id": "00f414ba",
   "metadata": {},
   "outputs": [],
   "source": []
  },
  {
   "cell_type": "markdown",
   "id": "b59c8806",
   "metadata": {},
   "source": [
    "# Return Values and Scoping:"
   ]
  },
  {
   "cell_type": "markdown",
   "id": "d9f1b4f9",
   "metadata": {},
   "source": [
    "#1.Describe the role of the return statement in Python functions and provide examples.\n",
    "=>The Python return statement is used to return the output from a function.Expression are evaluated inside the\n",
    "function and then result is returned from the function using 'return' keyword."
   ]
  },
  {
   "cell_type": "markdown",
   "id": "8dc9be32",
   "metadata": {},
   "source": [
    "#2.Explain the concept of variable scope in Python, including local and global variables.\n",
    "=>A variable declared outside a function is called a global variable and a variable inside a function is \n",
    "called a local variable of that function.\n",
    "Local variable access within the function body outside function body it can not be accessible or modified\n",
    "Global variable access within the whole code with the help of 'global' keyword use before declaration we \n",
    "can access the value as well as modified the value of the Global variables."
   ]
  },
  {
   "cell_type": "code",
   "execution_count": 17,
   "id": "853872fb",
   "metadata": {},
   "outputs": [
    {
     "name": "stdout",
     "output_type": "stream",
     "text": [
      "10\n",
      "100\n"
     ]
    }
   ],
   "source": [
    "#3.Write a Python program that demonstrates the use of global variables within functions.\n",
    "#Global variables a,b,c,d\n",
    "a=10\n",
    "b=20\n",
    "c=30\n",
    "d=40\n",
    "def addition():\n",
    "    a=1\n",
    "    b=2\n",
    "    c=3\n",
    "    d=4\n",
    "    res = a+b+c+d\n",
    "    return res\n",
    "#Using 'global keyword access the global variables inside the funtion body\n",
    "def addition1():\n",
    "    global a,b,c,d\n",
    "    res=a+b+c+d\n",
    "    return res\n",
    "a=addition()\n",
    "b=addition1()\n",
    "print(a)\n",
    "print(b)\n"
   ]
  },
  {
   "cell_type": "code",
   "execution_count": 4,
   "id": "1e6de3de",
   "metadata": {},
   "outputs": [
    {
     "name": "stdout",
     "output_type": "stream",
     "text": [
      "Enter a Number to find Factorial of it:-6\n"
     ]
    },
    {
     "data": {
      "text/plain": [
       "720"
      ]
     },
     "execution_count": 4,
     "metadata": {},
     "output_type": "execute_result"
    }
   ],
   "source": [
    "#4.Create a Python function that calculates the factorial of a number and returns it.\n",
    "def fact(n):\n",
    "    fact=1\n",
    "    for i in range(1,n+1):\n",
    "        fact*=i\n",
    "    return fact\n",
    "n=int(input(\"Enter a Number to find Factorial of it:-\"))\n",
    "fact(n)"
   ]
  },
  {
   "cell_type": "markdown",
   "id": "1ef55773",
   "metadata": {},
   "source": [
    "#5.How can you access variables defined outside a function from within the function?#\n",
    "When we want MODIFY the GLOBAL VARIABLE values in side of function defintion  then global variable names must be preceded with 'global' keyword otherwise we get \"UnboundLocalError: local variable names referenced before assignment\""
   ]
  },
  {
   "cell_type": "code",
   "execution_count": null,
   "id": "80b7f9a5",
   "metadata": {},
   "outputs": [],
   "source": []
  },
  {
   "cell_type": "markdown",
   "id": "40535fa7",
   "metadata": {},
   "source": [
    "# Lambda Functions and Higher-Order Functions:"
   ]
  },
  {
   "cell_type": "code",
   "execution_count": null,
   "id": "da954a06",
   "metadata": {},
   "outputs": [],
   "source": [
    "#1.What are lambda functions in Python, and when are they typically used?\n",
    "The Purpose of Anonymous Function  is that  \" To Performing Instant Operations\".\n",
    "To define Anonymous Functions, we use a keyword called \"lambda\" and hence Anonymous Function are called Lambda Functions."
   ]
  },
  {
   "cell_type": "code",
   "execution_count": 22,
   "id": "7f08fe07",
   "metadata": {},
   "outputs": [
    {
     "name": "stdout",
     "output_type": "stream",
     "text": [
      "Sorted list based on the second element:\n",
      "[(5, 1), (3, 2), (4, 3), (1, 5), (2, 8)]\n"
     ]
    }
   ],
   "source": [
    "#2.Write a Python program that uses lambda functions to sort a list of tuples based on the second element.\n",
    "t1 = [(1, 5), (3, 2), (2, 8), (5, 1), (4, 3)]\n",
    "\n",
    "# Sorting based on the second element of each tuple\n",
    "a = sorted(t1, key=lambda x: x[1])\n",
    "\n",
    "print(\"Sorted list based on the second element:\")\n",
    "print(a)\n",
    "\n",
    "# b=sorted(t1,key=lambda x:x[0])\n",
    "# print(b)"
   ]
  },
  {
   "cell_type": "code",
   "execution_count": null,
   "id": "c2730ae9",
   "metadata": {},
   "outputs": [],
   "source": [
    "#3.Explain the concept of higher-order functions in Python, and provide an example.\n",
    "higher-order functions are functions that can take other functions as arguments or return functions \n",
    "as results"
   ]
  },
  {
   "cell_type": "code",
   "execution_count": 25,
   "id": "0caff807",
   "metadata": {},
   "outputs": [
    {
     "name": "stdout",
     "output_type": "stream",
     "text": [
      "Result 1: 81\n",
      "Result 2: 15\n"
     ]
    }
   ],
   "source": [
    "def apply_twice(func, x):\n",
    "    return func(func(x))\n",
    "\n",
    "def square(x):\n",
    "    return x * x\n",
    "\n",
    "def add_five(x):\n",
    "    return x + 5\n",
    "\n",
    "res1 = apply_twice(square, 3)\n",
    "res2 = apply_twice(add_five, 5)\n",
    "\n",
    "print(\"Result 1:\", res1)  \n",
    "print(\"Result 2:\", res2)  \n"
   ]
  },
  {
   "cell_type": "code",
   "execution_count": 27,
   "id": "321b48c0",
   "metadata": {},
   "outputs": [
    {
     "name": "stdout",
     "output_type": "stream",
     "text": [
      "Squared numbers: [1, 4, 9, 16, 25]\n",
      "Doubled numbers: [2, 4, 6, 8, 10]\n"
     ]
    }
   ],
   "source": [
    "#4.Create a Python function that takes a list of numbers and a function as arguments, \n",
    "#applying the function to each element in the list.\n",
    "def apply_function_to_list(lst, func):\n",
    "    result = []\n",
    "    for num in lst:\n",
    "        result.append(func(num))\n",
    "    return result\n",
    "\n",
    "def square(x):\n",
    "    return x * x\n",
    "\n",
    "def double(x):\n",
    "    return x * 2\n",
    "\n",
    "# List of numbers\n",
    "numbers = [1, 2, 3, 4, 5]\n",
    "\n",
    "# Applying square function to numbers\n",
    "squared_numbers = apply_function_to_list(numbers, square)\n",
    "print(\"Squared numbers:\", squared_numbers)  # Output: Squared numbers: [1, 4, 9, 16, 25]\n",
    "\n",
    "# Applying double function to numbers\n",
    "doubled_numbers = apply_function_to_list(numbers, double)\n",
    "print(\"Doubled numbers:\", doubled_numbers)  # Output: Doubled numbers: [2, 4, 6, 8, 10]\n"
   ]
  },
  {
   "cell_type": "code",
   "execution_count": null,
   "id": "27fbce0e",
   "metadata": {},
   "outputs": [],
   "source": [
    "Built-in Functions:\n",
    "\n",
    "\n",
    "1. Describe the role of built-in functions like `len()`, `max()`, and `min()` in Python.\n",
    "2. Write a Python program that uses the `map()` function to apply a function to each element of a list.\n",
    "3. How does the `filter()` function work in Python, and when would you use it?\n",
    "4. Create a Python program that uses the `reduce()` function to find the product of all elements in a list.\n",
    "\n",
    "\n",
    "Function Documentation and Best Practices:\n",
    "\n",
    "\n",
    "1. Explain the purpose of docstrings in Python functions and how to write them.\n",
    "2. Describe some best practices for naming functions and variables in Python, including naming conventions and guidelines."
   ]
  },
  {
   "cell_type": "markdown",
   "id": "d888aabd",
   "metadata": {},
   "source": [
    "# Built-in Functions:"
   ]
  },
  {
   "cell_type": "code",
   "execution_count": 29,
   "id": "260fbae3",
   "metadata": {},
   "outputs": [
    {
     "name": "stdout",
     "output_type": "stream",
     "text": [
      "5\n",
      "5\n",
      "1\n"
     ]
    }
   ],
   "source": [
    "#1. Describe the role of built-in functions like `len()`, `max()`, and `min()` in Python.\n",
    "l1=[1,2,3,4,5]\n",
    "#len():-function return the length of the sequence object like tuple,list,string \n",
    "print(len(l1))\n",
    "#max():-max() function returns the maximum value from the Given list of object\n",
    "print(max(l1))\n",
    "#min():-min() function returns the minimum value from the Given list of objects\n",
    "print(min(l1))"
   ]
  },
  {
   "cell_type": "code",
   "execution_count": 30,
   "id": "08078d24",
   "metadata": {},
   "outputs": [
    {
     "name": "stdout",
     "output_type": "stream",
     "text": [
      "[3, 4, 5, 6, 7]\n"
     ]
    }
   ],
   "source": [
    "#2. Write a Python program that uses the `map()` function to apply a function to each element of a list.\n",
    "res1=list(map(lambda x:x+2,l1))\n",
    "#adding 2 in each element of list l1\n",
    "print(res1)"
   ]
  },
  {
   "cell_type": "code",
   "execution_count": 37,
   "id": "06adf0b8",
   "metadata": {},
   "outputs": [
    {
     "name": "stdout",
     "output_type": "stream",
     "text": [
      "[2, 4, 6, 8, 10, 12, 14]\n",
      "[1, 3, 5, 7, 9, 11, 13, 15]\n"
     ]
    }
   ],
   "source": [
    "#3. How does the `filter()` function work in Python, and when would you use it?\n",
    "#Filtering out some elements from list of elements by applying to function. Reduce Function is Used when separate the Data from the single object to multiple object\n",
    "l1=[i for i in range(1,16)]\n",
    "even_list=list(filter(lambda x:x%2==0,l1))\n",
    "odd_list =list(filter(lambda x:x%2!=0,l1))\n",
    "print(even_list)\n",
    "print(odd_list)"
   ]
  },
  {
   "cell_type": "code",
   "execution_count": 42,
   "id": "5069c244",
   "metadata": {},
   "outputs": [
    {
     "name": "stdout",
     "output_type": "stream",
     "text": [
      "120\n"
     ]
    }
   ],
   "source": [
    "#4. Create a Python program that uses the `reduce()` function to find the product of all elements in a list.\n",
    "import functools\n",
    "l1=[i for i in range(1,6)]\n",
    "produnctofList=functools.reduce(lambda x,y:x*y,l1)\n",
    "print(produnctofList)"
   ]
  },
  {
   "cell_type": "code",
   "execution_count": null,
   "id": "99346388",
   "metadata": {},
   "outputs": [],
   "source": []
  },
  {
   "cell_type": "markdown",
   "id": "88578ef9",
   "metadata": {},
   "source": [
    "#1. Explain the purpose of docstrings in Python functions and how to write them.\n",
    "A Python docstring is a string used to document a Python module,class,function or method,so programmers\n",
    "can understand what it does without having to read the details of the implementation.\n",
    "Docstring can be written within the function body beginning of the function write it using single triple quotes,double triple quotes."
   ]
  },
  {
   "cell_type": "code",
   "execution_count": 43,
   "id": "53e32240",
   "metadata": {},
   "outputs": [
    {
     "data": {
      "text/plain": [
       "30"
      ]
     },
     "execution_count": 43,
     "metadata": {},
     "output_type": "execute_result"
    }
   ],
   "source": [
    "def addition_fun(a,b):\n",
    "    \"\"\"\n",
    "    This is the function using for addition and pass the two args to it\n",
    "    \"\"\"\n",
    "    return a+b\n",
    "addition_fun(10,20)"
   ]
  },
  {
   "cell_type": "markdown",
   "id": "868cbbf8",
   "metadata": {},
   "source": [
    "#2. Describe some best practices for naming functions and variables in Python, including naming conventionsand guidelines.\n",
    "In python the name of variables and functions should be lowercase.Individual words can be separated by underscores\n",
    "when needed.This will improve readability within your code.Method Names should follow the same conventions \n",
    "as function names.\n",
    "Don't use any Special symbol at time of declaring the name of fuction except underscore('-')\n"
   ]
  }
 ],
 "metadata": {
  "kernelspec": {
   "display_name": "Python 3 (ipykernel)",
   "language": "python",
   "name": "python3"
  },
  "language_info": {
   "codemirror_mode": {
    "name": "ipython",
    "version": 3
   },
   "file_extension": ".py",
   "mimetype": "text/x-python",
   "name": "python",
   "nbconvert_exporter": "python",
   "pygments_lexer": "ipython3",
   "version": "3.11.5"
  }
 },
 "nbformat": 4,
 "nbformat_minor": 5
}
